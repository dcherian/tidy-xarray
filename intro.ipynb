{
 "cells": [
  {
   "cell_type": "markdown",
   "id": "a09e7351-6146-4c9f-af1f-b6f35c7a3de2",
   "metadata": {},
   "source": [
    "# Tidy xarray geospatial cubes\n",
    "\n",
    "```{note}\n",
    "just adding some filler text to this/other pages for now\n",
    "```\n",
    "This Jupyter Book accompanies the 2023 SciPy presentation `Tidy Geospatial Cubes`. Here you will find introductory material, information on how to access the example datasets used in the presentation and jupyter notebook examples of the dataset tidying steps and concepts we discuss in the presentation. \n",
    "\n",
    "brainstorming notes and draft google slides can be found [here](https://docs.google.com/presentation/d/1mDS_NWNyJBXVnehe5fQYZdHw4fQ1_j9DkqTLfPbpjvs/edit?usp=sharing)\n"
   ]
  },
  {
   "cell_type": "markdown",
   "id": "1d2c684d-33e1-4132-a9b6-24082051d18c",
   "metadata": {},
   "source": [
    "## What is tidy data? "
   ]
  },
  {
   "cell_type": "markdown",
   "id": "ddc9038c-a41a-46ce-8b8d-0d26825fd323",
   "metadata": {},
   "source": [
    "## Why do we need it for gridded geospatial data?"
   ]
  },
  {
   "cell_type": "markdown",
   "id": "831e4e0b-5e76-4a15-ba41-a4fa7e91cb2d",
   "metadata": {},
   "source": [
    "## Examples of tidying data"
   ]
  },
  {
   "cell_type": "markdown",
   "id": "051d3ce6-88c6-4ff5-98bf-76c73b695b95",
   "metadata": {},
   "source": [
    "## What are the core concepts of tidy geospatial data cubes? "
   ]
  },
  {
   "cell_type": "markdown",
   "id": "d074f7cb-7327-40b9-9b24-c918607bbcdc",
   "metadata": {},
   "source": [
    "## Common 'tidying' steps for geospatial raster data\n",
    "\n",
    "1. data is normally stored such that individual observations or time-steps are organized as individual files. To construct a usable 'data cube' one will need to read and organize many files\n",
    "2. individual file names will often contain important metadata that needs to be used for indexing and selection later -- how to store it?\n",
    "\n",
    "### How to know if something should be a dimension, coordinate or data variable? \n",
    "\n",
    "Complicated, but when in doubt, good rule is:  \n",
    "\n",
    "\n",
    "    1. dimensional coordinates (ie. `dims`) should be `(x,y,time)`  \n",
    "    2. non-dimensional coordinates (`coords`) should be anything that provides information about the independent data you are hoping to observe, but might not be fundamental to the shape/structure of your 'data cube'. Examples could be: imaging mode, polarization, temporal baseline. Often times, this information will be stored in the original filename, or potentially as an attribute. If it is something you might want to use for indexing or selection down the line, it is best to store that information as a non-dimensional coord.   \n",
    "    3. The independent data variables you are observing (temperature, salinity, magnitude of velocity, reflectance, backscatter ...) should be stored as `data_vars`.\n",
    "    "
   ]
  },
  {
   "cell_type": "code",
   "execution_count": null,
   "id": "98559af6-0511-476e-b00b-10e91b7efb2f",
   "metadata": {},
   "outputs": [],
   "source": []
  }
 ],
 "metadata": {
  "kernelspec": {
   "display_name": "Python 3 (ipykernel)",
   "language": "python",
   "name": "python3"
  },
  "language_info": {
   "codemirror_mode": {
    "name": "ipython",
    "version": 3
   },
   "file_extension": ".py",
   "mimetype": "text/x-python",
   "name": "python",
   "nbconvert_exporter": "python",
   "pygments_lexer": "ipython3",
   "version": "3.11.3"
  }
 },
 "nbformat": 4,
 "nbformat_minor": 5
}
