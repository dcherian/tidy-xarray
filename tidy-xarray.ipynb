{
 "cells": [
  {
   "cell_type": "markdown",
   "id": "842a339c-06b2-44a0-aba7-a3ea17ce02f8",
   "metadata": {
    "tags": []
   },
   "source": [
    "# Tidy Xarray\n",
    "https://hackmd.io/fRlFcJI_ROqbCoLESAWanw?both"
   ]
  },
  {
   "cell_type": "code",
   "execution_count": 1,
   "id": "06024412-dc25-400e-b26a-3bf76d61a517",
   "metadata": {},
   "outputs": [],
   "source": [
    "import xarray as xr"
   ]
  },
  {
   "cell_type": "markdown",
   "id": "49f46543-76f4-4835-8db9-1e991b450f45",
   "metadata": {},
   "source": [
    "## Examples"
   ]
  },
  {
   "cell_type": "markdown",
   "id": "e71d64d3-e7b9-4ef2-b9e0-bb3e6c85352e",
   "metadata": {},
   "source": [
    "### Aquarius Dataset\n",
    "\n",
    "- no meaningful dimension names\n",
    "- no coordinate variables\n",
    "- time information is in attribute\n",
    "\n",
    "https://gist.github.com/dcherian/66269bc2b36c2bc427897590d08472d7"
   ]
  },
  {
   "cell_type": "code",
   "execution_count": null,
   "id": "9010a206-eba7-4a2b-8db3-670bf833f9d8",
   "metadata": {},
   "outputs": [],
   "source": []
  },
  {
   "cell_type": "markdown",
   "id": "0b1764d2-f1e5-42c7-91dd-519ed779a09f",
   "metadata": {},
   "source": [
    "### InSAR Ice Velocity Data\n",
    "\n",
    "https://tutorial.xarray.dev/data_cleaning/ice_velocity.html\n",
    "\n",
    "- Should be only 3 variables; instead we have 32 with one year of data for a single field in a single variable\n",
    "- Data Variables `xaxis`, `yaxis` should be dimension coordinates."
   ]
  },
  {
   "cell_type": "markdown",
   "id": "1ad1f5d1-4ba1-4542-b217-7da686a0c595",
   "metadata": {},
   "source": [
    "### Sentinel-1 RTC\n",
    "\n",
    "https://e-marshall.github.io/sentinel1_rtc/asf_local_vrt.html#add-granule-id-as-another-non-dimensional-coordinate\n",
    "\n",
    "- granule_id in attributes but would vary across files"
   ]
  }
 ],
 "metadata": {
  "kernelspec": {
   "display_name": "Python 3 (ipykernel)",
   "language": "python",
   "name": "python3"
  },
  "language_info": {
   "codemirror_mode": {
    "name": "ipython",
    "version": 3
   },
   "file_extension": ".py",
   "mimetype": "text/x-python",
   "name": "python",
   "nbconvert_exporter": "python",
   "pygments_lexer": "ipython3",
   "version": "3.11.3"
  },
  "widgets": {
   "application/vnd.jupyter.widget-state+json": {
    "state": {},
    "version_major": 2,
    "version_minor": 0
   }
  }
 },
 "nbformat": 4,
 "nbformat_minor": 5
}
