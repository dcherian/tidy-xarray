{
 "cells": [
  {
   "cell_type": "markdown",
   "id": "d3ce2468-0292-4d95-8eeb-229044019c2b",
   "metadata": {},
   "source": [
    "# Example 1: Aquarius"
   ]
  },
  {
   "cell_type": "markdown",
   "id": "632f87b1-3cba-4548-ac43-890ea65bfea5",
   "metadata": {},
   "source": [
    "content is [here](https://gist.github.com/dcherian/66269bc2b36c2bc427897590d08472d7), move over to nb"
   ]
  }
 ],
 "metadata": {
  "kernelspec": {
   "display_name": "Python 3 (ipykernel)",
   "language": "python",
   "name": "python3"
  },
  "language_info": {
   "codemirror_mode": {
    "name": "ipython",
    "version": 3
   },
   "file_extension": ".py",
   "mimetype": "text/x-python",
   "name": "python",
   "nbconvert_exporter": "python",
   "pygments_lexer": "ipython3",
   "version": "3.11.3"
  }
 },
 "nbformat": 4,
 "nbformat_minor": 5
}
